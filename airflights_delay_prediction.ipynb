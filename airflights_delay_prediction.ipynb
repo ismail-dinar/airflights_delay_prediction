{
 "cells": [
  {
   "cell_type": "markdown",
   "metadata": {},
   "source": [
    "# Prévision de risque de retards pour les avions"
   ]
  },
  {
   "cell_type": "markdown",
   "metadata": {},
   "source": [
    "**Réalisé par Mohamed Ali Tlich, Ahmed Chaabouni et Ismail Dinar**"
   ]
  },
  {
   "cell_type": "markdown",
   "metadata": {},
   "source": [
    "# Objectif"
   ]
  },
  {
   "cell_type": "markdown",
   "metadata": {},
   "source": [
    "**Le but de ce projet est de construire un modèle de prédiction des retards (de 15 minutes ou plus) de vol exploitant les données de performances de vol à l'heure et d'utiliser le modèle pour obtenir des informations sur les retards de vol passés. **"
   ]
  },
  {
   "cell_type": "markdown",
   "metadata": {},
   "source": [
    "# Les librairies utilisées"
   ]
  },
  {
   "cell_type": "code",
   "execution_count": 1,
   "metadata": {},
   "outputs": [],
   "source": [
    "import numpy as np\n",
    "import pandas as pd\n",
    "import matplotlib.pyplot as plt\n",
    "import seaborn as sns\n",
    "from sklearn.model_selection import train_test_split\n",
    "from sklearn.utils import shuffle\n",
    "from sklearn.preprocessing import Imputer ,StandardScaler , LabelEncoder, OneHotEncoder\n",
    "from sklearn.ensemble import RandomForestRegressor\n",
    "from sklearn.model_selection import GridSearchCV\n",
    "from sklearn.feature_extraction.text import CountVectorizer\n",
    "from sklearn import naive_bayes\n",
    "import operator\n",
    "import random\n",
    "from scipy.stats import pearsonr\n",
    "from sklearn.linear_model import LinearRegression\n",
    "from sklearn.model_selection import cross_validate\n",
    "from sklearn.metrics import confusion_matrix\n",
    "from sklearn.tree import DecisionTreeClassifier\n",
    "from sklearn import naive_bayes\n",
    "from sklearn.neighbors import KNeighborsClassifier\n",
    "from sklearn import svm\n",
    "from sklearn.preprocessing import LabelEncoder\n",
    "from sklearn.ensemble import RandomForestClassifier\n",
    "from sklearn.model_selection import RandomizedSearchCV\n",
    "from sklearn.decomposition import PCA"
   ]
  },
  {
   "cell_type": "markdown",
   "metadata": {},
   "source": [
    "# Ensemble de données utilisées"
   ]
  },
  {
   "cell_type": "markdown",
   "metadata": {},
   "source": [
    "**Dans ce projet nous allons utiliser un ensemble de données que nous avons trouver dans le site du département américain des Transports (DoT) et qui comporte des données sur les vols intérieurs sans escale de l'année 2018. Ces données sont enregistrées dans les fichiers \"On_Time_Reporting_Carrier_On_Time_Performance_(1987_present)_2018_*.csv\". **\n"
   ]
  },
  {
   "cell_type": "markdown",
   "metadata": {},
   "source": [
    "# Chargement des données"
   ]
  },
  {
   "cell_type": "code",
   "execution_count": 2,
   "metadata": {},
   "outputs": [
    {
     "name": "stderr",
     "output_type": "stream",
     "text": [
      "C:\\Users\\sm41l\\Anaconda3\\lib\\site-packages\\IPython\\core\\interactiveshell.py:3058: DtypeWarning: Columns (48,69,76,77,84) have mixed types. Specify dtype option on import or set low_memory=False.\n",
      "  interactivity=interactivity, compiler=compiler, result=result)\n",
      "C:\\Users\\sm41l\\Anaconda3\\lib\\site-packages\\IPython\\core\\interactiveshell.py:3058: DtypeWarning: Columns (48,77,84) have mixed types. Specify dtype option on import or set low_memory=False.\n",
      "  interactivity=interactivity, compiler=compiler, result=result)\n",
      "C:\\Users\\sm41l\\Anaconda3\\lib\\site-packages\\IPython\\core\\interactiveshell.py:3058: DtypeWarning: Columns (48,76,77,84) have mixed types. Specify dtype option on import or set low_memory=False.\n",
      "  interactivity=interactivity, compiler=compiler, result=result)\n"
     ]
    }
   ],
   "source": [
    "data = pd.read_csv('On_Time_Reporting_Carrier_On_Time_Performance_(1987_present)_2018_1.csv')\n",
    "for i in range(2,13):\n",
    "    data = data.append(pd.read_csv('On_Time_Reporting_Carrier_On_Time_Performance_(1987_present)_2018_'+str(i)+'.csv'))"
   ]
  },
  {
   "cell_type": "code",
   "execution_count": 3,
   "metadata": {},
   "outputs": [
    {
     "data": {
      "text/plain": [
       "(7213446, 110)"
      ]
     },
     "execution_count": 3,
     "metadata": {},
     "output_type": "execute_result"
    }
   ],
   "source": [
    "data.shape"
   ]
  },
  {
   "cell_type": "markdown",
   "metadata": {},
   "source": [
    "**L'ensemble de données intial contient 7213446 lignes et 110 attributs.**"
   ]
  },
  {
   "cell_type": "markdown",
   "metadata": {},
   "source": [
    "# Nettoyage des données"
   ]
  },
  {
   "cell_type": "markdown",
   "metadata": {},
   "source": [
    "➠ Nous allons supprimer les colonnes contenant plus de 2/3 des entrées manquantes."
   ]
  },
  {
   "cell_type": "code",
   "execution_count": 4,
   "metadata": {},
   "outputs": [],
   "source": [
    "for column in data.columns:\n",
    "    if data[column].isnull().sum() > len(data)*(2/3):\n",
    "        data.drop(column, axis = 1, inplace=True)"
   ]
  },
  {
   "cell_type": "markdown",
   "metadata": {},
   "source": [
    "➠ La nouvelle taille de l'ensemble de données est:"
   ]
  },
  {
   "cell_type": "code",
   "execution_count": 5,
   "metadata": {},
   "outputs": [
    {
     "data": {
      "text/plain": [
       "(7213446, 56)"
      ]
     },
     "execution_count": 5,
     "metadata": {},
     "output_type": "execute_result"
    }
   ],
   "source": [
    "data.shape"
   ]
  },
  {
   "cell_type": "markdown",
   "metadata": {},
   "source": [
    "➠ On remarque bien que les colonnes contenant beaucoup de valeurs manquantes ont été éliminées."
   ]
  },
  {
   "cell_type": "markdown",
   "metadata": {},
   "source": [
    "En deuxième lieu nous allons supprimer les colonnes qui ne fournissent pas d'informations utiles pour cette analyse (les colonnes qui ont la meme valeur. Par exemple la colonne \"Year\" est toujours égale à 2018)"
   ]
  },
  {
   "cell_type": "code",
   "execution_count": 6,
   "metadata": {},
   "outputs": [],
   "source": [
    "for column in data.columns:\n",
    "    if data[column].nunique() == 1:\n",
    "        data.drop(column, axis = 1, inplace = True)"
   ]
  },
  {
   "cell_type": "markdown",
   "metadata": {},
   "source": [
    "➠ Nous avons obtenu un ensemble de données de taille:"
   ]
  },
  {
   "cell_type": "code",
   "execution_count": 7,
   "metadata": {},
   "outputs": [
    {
     "data": {
      "text/plain": [
       "(7213446, 54)"
      ]
     },
     "execution_count": 7,
     "metadata": {},
     "output_type": "execute_result"
    }
   ],
   "source": [
    "data.shape"
   ]
  },
  {
   "cell_type": "markdown",
   "metadata": {},
   "source": [
    "# Analyse des données"
   ]
  },
  {
   "cell_type": "markdown",
   "metadata": {},
   "source": [
    "Cette phase nous permet d'identifier les features qui semblent prometteuses dans l'analyse pour prédire les retards d'arrivée des vols. Notre variable cible est ArrDel15 - Indicateur de retard d'arrivée, 15 minutes ou plus (1 = retard, 0 = pas de retard)"
   ]
  },
  {
   "cell_type": "code",
   "execution_count": 8,
   "metadata": {},
   "outputs": [
    {
     "name": "stdout",
     "output_type": "stream",
     "text": [
      "0.0    5723696\n",
      "1.0    1352710\n",
      "Name: ArrDel15, dtype: int64\n",
      "ratio :  0.18752618374075303\n"
     ]
    },
    {
     "data": {
      "text/plain": [
       "<matplotlib.axes._subplots.AxesSubplot at 0x19605541ec8>"
      ]
     },
     "execution_count": 8,
     "metadata": {},
     "output_type": "execute_result"
    },
    {
     "data": {
      "image/png": "[encoded data removed]",
      "text/plain": [
       "<Figure size 432x288 with 1 Axes>"
      ]
     },
     "metadata": {
      "needs_background": "light"
     },
     "output_type": "display_data"
    }
   ],
   "source": [
    "arr_del_15_class_distribution = data['ArrDel15'].value_counts()\n",
    "print(arr_del_15_class_distribution)\n",
    "print('ratio : ', arr_del_15_class_distribution.min()/len(data))\n",
    "sns.countplot(x='ArrDel15',data=data, palette=\"Blues_d\")"
   ]
  },
  {
   "cell_type": "markdown",
   "metadata": {},
   "source": [
    "D'après le graphe ci-dessus, on remarque que l'ensemble de données est très fortement asymétrique, les retards d'arrivée positifs ne constituant que 18% des échantillons. Donc si nous n'équilibrons pas la distribution des classes, on risque que le classifieur apprenne une classe mieux que l'autre (le classificateur qui prédit qu'il n'y a pas de retard à l'arrivée a une précision de 82%.)."
   ]
  },
  {
   "cell_type": "markdown",
   "metadata": {},
   "source": [
    "** ➠ Equilibrage des classes **"
   ]
  },
  {
   "cell_type": "code",
   "execution_count": 9,
   "metadata": {},
   "outputs": [
    {
     "name": "stdout",
     "output_type": "stream",
     "text": [
      "1.0    1352710\n",
      "0.0    1352710\n",
      "Name: ArrDel15, dtype: int64\n"
     ]
    },
    {
     "data": {
      "image/png": "[encoded data removed]",
      "text/plain": [
       "<Figure size 432x288 with 1 Axes>"
      ]
     },
     "metadata": {
      "needs_background": "light"
     },
     "output_type": "display_data"
    }
   ],
   "source": [
    "arr_del_15_zero = data[data['ArrDel15']==0].tail(arr_del_15_class_distribution.min())\n",
    "arr_del_15_one = data[data['ArrDel15']==1]\n",
    "data = arr_del_15_zero.append(arr_del_15_one)\n",
    "arr_del_15_class_distribution = data['ArrDel15'].value_counts()\n",
    "print(arr_del_15_class_distribution)\n",
    "sns.countplot(x='ArrDel15',data=data, palette=\"Blues_d\")\n",
    "data = data.reset_index(drop=True)"
   ]
  },
  {
   "cell_type": "markdown",
   "metadata": {},
   "source": [
    "➠ La nouvelle taille de l'ensemble de données est:"
   ]
  },
  {
   "cell_type": "code",
   "execution_count": 10,
   "metadata": {},
   "outputs": [
    {
     "data": {
      "text/plain": [
       "(2705420, 54)"
      ]
     },
     "execution_count": 10,
     "metadata": {},
     "output_type": "execute_result"
    }
   ],
   "source": [
    "data.shape"
   ]
  },
  {
   "cell_type": "markdown",
   "metadata": {},
   "source": [
    "Maintenant, on passe à une analyse des différents attributs (features) et leur pertinence dans la déduction des retards de vols."
   ]
  },
  {
   "cell_type": "markdown",
   "metadata": {},
   "source": [
    "La fonction suivante permet de visualiser la variation du nombre des vols qui arrivent en retard par rapport à différents attributs."
   ]
  },
  {
   "cell_type": "code",
   "execution_count": 11,
   "metadata": {},
   "outputs": [],
   "source": [
    "def bar_plot(feature,title):\n",
    "    plt.figure(figsize=(12, 5))\n",
    "    order = np.unique(list(data[feature]))\n",
    "    ax = sns.barplot(x=feature,y ='ArrDel15', data=data, color = \"red\" , order = order , estimator = np.sum)\n",
    "    plt.xticks(rotation=90)\n",
    "    plt.title(title)"
   ]
  },
  {
   "cell_type": "markdown",
   "metadata": {},
   "source": [
    "**Date des vols**"
   ]
  },
  {
   "cell_type": "markdown",
   "metadata": {},
   "source": [
    "Nous allons commencer par l'affichage de la variation de nombre total de vols en retard en fonction de la date du vol."
   ]
  },
  {
   "cell_type": "code",
   "execution_count": 12,
   "metadata": {},
   "outputs": [
    {
     "data": {
      "image/png": "[encoded data removed]",
      "text/plain": [
       "<Figure size 864x360 with 1 Axes>"
      ]
     },
     "metadata": {
      "needs_background": "light"
     },
     "output_type": "display_data"
    }
   ],
   "source": [
    "bar_plot('Month', 'Nombre total de vols en retard en fonction du mois')"
   ]
  },
  {
   "cell_type": "raw",
   "metadata": {},
   "source": [
    "➠ On remarque que le nombre total de vols en retard est plus important pendant les mois d'été."
   ]
  },
  {
   "cell_type": "markdown",
   "metadata": {},
   "source": [
    "On affiche le nombre des vols qui arrivent en retard par rapport au jour de la semaine"
   ]
  },
  {
   "cell_type": "code",
   "execution_count": 13,
   "metadata": {},
   "outputs": [
    {
     "data": {
      "image/png": "[encoded data removed]",
      "text/plain": [
       "<Figure size 864x360 with 1 Axes>"
      ]
     },
     "metadata": {
      "needs_background": "light"
     },
     "output_type": "display_data"
    }
   ],
   "source": [
    "bar_plot('DayOfWeek','Nombre des vols qui arrivent en retard par rapport au jour de la semaine')"
   ]
  },
  {
   "cell_type": "markdown",
   "metadata": {},
   "source": [
    "➠ Il n'existe pas un \"pattern\" apparent dans ces valeurs, mais on remarque une augmentation de nombre des retards entre mercredi et jeudi."
   ]
  },
  {
   "cell_type": "markdown",
   "metadata": {},
   "source": [
    "Pour une meilleure visualisation, nous allons diviser la semaine en deux : weekends et non weekends."
   ]
  },
  {
   "cell_type": "code",
   "execution_count": 14,
   "metadata": {},
   "outputs": [],
   "source": [
    "def split_week(cols):\n",
    "    if cols in [1,7]:\n",
    "        return \"Weekend\"\n",
    "\n",
    "    else:\n",
    "        return \"Weekdays\"\n",
    "data['Week']  = data['DayOfWeek'].apply(split_week)\n",
    "data.drop(\"DayOfWeek\", axis = 1, inplace = True)"
   ]
  },
  {
   "cell_type": "code",
   "execution_count": 15,
   "metadata": {},
   "outputs": [
    {
     "data": {
      "text/plain": [
       "Text(0, 0.5, 'Probabilité de retard')"
      ]
     },
     "execution_count": 15,
     "metadata": {},
     "output_type": "execute_result"
    },
    {
     "data": {
      "image/png": "[encoded data removed]",
      "text/plain": [
       "<Figure size 360x360 with 1 Axes>"
      ]
     },
     "metadata": {
      "needs_background": "light"
     },
     "output_type": "display_data"
    }
   ],
   "source": [
    "week_grouped1 = data.groupby('Week')[\"ArrDel15\"].sum()\n",
    "week_grouped2 = data.groupby('Week')[\"ArrDel15\"].count()\n",
    "week_grouped = pd.concat([week_grouped1, week_grouped2],axis=1, keys=[\"sum\", \"count\"])\n",
    "week_grouped[\"Probability of Arrival Delay15\"] = week_grouped[\"sum\"]/week_grouped[\"count\"]\n",
    "plt.figure(figsize=(5, 5))\n",
    "sns.set_style('whitegrid')\n",
    "sns.barplot(x=week_grouped.index, y ='Probability of Arrival Delay15', data=week_grouped, color ='red')\n",
    "plt.ylabel(\"Probabilité de retard\")"
   ]
  },
  {
   "cell_type": "markdown",
   "metadata": {},
   "source": [
    "➠ Le nombre moyen de retards est moindre en weekend par rapport aux autres jours."
   ]
  },
  {
   "cell_type": "markdown",
   "metadata": {},
   "source": [
    "On affiche le nombre des vols qui arrivent en retard par rapport au jour du mois"
   ]
  },
  {
   "cell_type": "code",
   "execution_count": 16,
   "metadata": {},
   "outputs": [
    {
     "data": {
      "image/png": "[encoded data removed]",
      "text/plain": [
       "<Figure size 864x360 with 1 Axes>"
      ]
     },
     "metadata": {},
     "output_type": "display_data"
    }
   ],
   "source": [
    "bar_plot('DayofMonth','Nombre des vols qui arrivent en retard par rapport au jour du mois')"
   ]
  },
  {
   "cell_type": "markdown",
   "metadata": {},
   "source": [
    "Pour une meilleure visualisation, nous allons diviser le mois en 5 : semaine1, semaine2, semaine3, semaine4 et semaine5."
   ]
  },
  {
   "cell_type": "code",
   "execution_count": 17,
   "metadata": {},
   "outputs": [],
   "source": [
    "def split_month(cols):\n",
    "    if cols in [1,2,3,4,5,6,7]:\n",
    "        return \"weekI\"\n",
    "\n",
    "    elif cols in [8,9,10,11,12,13,14]:\n",
    "        return \"weekII\"\n",
    "\n",
    "    elif cols in [15,16,17,18,19,20,21]:\n",
    "        return \"weekIII\"\n",
    "\n",
    "    elif cols in [22,23,24,25,26,27,28]:\n",
    "        return \"weekIV\"\n",
    "\n",
    "    else:\n",
    "        return \"weekV\"\n",
    "    \n",
    "data['Month'] = data[\"DayofMonth\"].apply(split_month)\n",
    "data.drop(\"DayofMonth\", axis = 1, inplace = True)"
   ]
  },
  {
   "cell_type": "code",
   "execution_count": 18,
   "metadata": {},
   "outputs": [
    {
     "data": {
      "text/plain": [
       "Text(0, 0.5, 'Nombre moyen de retards')"
      ]
     },
     "execution_count": 18,
     "metadata": {},
     "output_type": "execute_result"
    },
    {
     "data": {
      "image/png": "[encoded data removed]",
      "text/plain": [
       "<Figure size 432x288 with 1 Axes>"
      ]
     },
     "metadata": {},
     "output_type": "display_data"
    }
   ],
   "source": [
    "Month_grouped1 = data.groupby('Month')[\"ArrDel15\"].sum()\n",
    "Month_grouped2 = data.groupby('Month')[\"ArrDel15\"].count()\n",
    "Month_grouped = pd.concat([Month_grouped1, Month_grouped2],axis=1, keys=[\"sum\", \"count\"])\n",
    "Month_grouped[\"Average number of delays\"] = Month_grouped[\"sum\"]/Month_grouped[\"count\"]\n",
    "sns.barplot(x=Month_grouped.index, y ='Average number of delays', data=Month_grouped, color ='red')\n",
    "plt.xlabel(\"Weekly distribution\")\n",
    "plt.ylabel(\"Nombre moyen de retards\")"
   ]
  },
  {
   "cell_type": "markdown",
   "metadata": {},
   "source": [
    "➠ On remarque que nombre moyen de retards atteint un maximum au mi-mois. La dernière semaine étant la semaine avec le nombre moyen de retards minimal."
   ]
  },
  {
   "cell_type": "markdown",
   "metadata": {},
   "source": [
    "On affiche le nombre des vols qui arrivent en retard par rapport à l'heure d'arrivée"
   ]
  },
  {
   "cell_type": "code",
   "execution_count": 19,
   "metadata": {},
   "outputs": [
    {
     "data": {
      "image/png": "[encoded data removed]",
      "text/plain": [
       "<Figure size 864x360 with 1 Axes>"
      ]
     },
     "metadata": {},
     "output_type": "display_data"
    }
   ],
   "source": [
    "bar_plot('ArrTimeBlk','Nombre des vols qui arrivent en retard par rapport à l\\'heure d\\'arrivée')"
   ]
  },
  {
   "cell_type": "markdown",
   "metadata": {},
   "source": [
    "On affiche le nombre des vols qui arrivent en retard par rapport à l'heure de départ"
   ]
  },
  {
   "cell_type": "code",
   "execution_count": 20,
   "metadata": {},
   "outputs": [
    {
     "data": {
      "image/png": "[encoded data removed]",
      "text/plain": [
       "<Figure size 864x360 with 1 Axes>"
      ]
     },
     "metadata": {},
     "output_type": "display_data"
    }
   ],
   "source": [
    "bar_plot('DepTimeBlk','Nombre des vols qui arrivent en retard par rapport à l\\'heure de départ')"
   ]
  },
  {
   "cell_type": "markdown",
   "metadata": {},
   "source": [
    "Pour une meilleure visualisation, nous allons diviser le jour en 3: l'après midi, le soir et le matin."
   ]
  },
  {
   "cell_type": "code",
   "execution_count": 21,
   "metadata": {},
   "outputs": [],
   "source": [
    "def split_day(cols):\n",
    "    if cols >= 600 and cols < 1200:\n",
    "        return \"Morning\"\n",
    "    elif cols >= 1200 and cols < 1600:\n",
    "        return \"Afternoon\"\n",
    "    else:\n",
    "        return \"Evening\"\n",
    "\n",
    "data['Arrival_Time'] = data[\"CRSArrTime\"].apply(split_day)\n",
    "data.drop(\"CRSArrTime\", axis = 1, inplace = True)"
   ]
  },
  {
   "cell_type": "code",
   "execution_count": 22,
   "metadata": {},
   "outputs": [
    {
     "data": {
      "text/plain": [
       "<matplotlib.axes._subplots.AxesSubplot at 0x1960861ef88>"
      ]
     },
     "execution_count": 22,
     "metadata": {},
     "output_type": "execute_result"
    },
    {
     "data": {
      "image/png": "[encoded data removed]",
      "text/plain": [
       "<Figure size 432x288 with 1 Axes>"
      ]
     },
     "metadata": {},
     "output_type": "display_data"
    }
   ],
   "source": [
    "arrtime_grouped = data.groupby('Arrival_Time').mean()\n",
    "sns.barplot(x=arrtime_grouped.index, y =\"ArrDel15\", data=arrtime_grouped, color ='red')"
   ]
  },
  {
   "cell_type": "code",
   "execution_count": 23,
   "metadata": {},
   "outputs": [
    {
     "data": {
      "text/plain": [
       "<matplotlib.axes._subplots.AxesSubplot at 0x19607b8c988>"
      ]
     },
     "execution_count": 23,
     "metadata": {},
     "output_type": "execute_result"
    },
    {
     "data": {
      "image/png": "[encoded data removed]",
      "text/plain": [
       "<Figure size 432x288 with 1 Axes>"
      ]
     },
     "metadata": {},
     "output_type": "display_data"
    }
   ],
   "source": [
    "data['Departure_Time'] = data[\"CRSDepTime\"].apply(split_day)\n",
    "data.drop(\"CRSDepTime\", axis = 1, inplace = True)\n",
    "deptime_grouped = data.groupby('Departure_Time').mean()\n",
    "sns.barplot(x=deptime_grouped.index, y =\"ArrDel15\", data=deptime_grouped, color ='red')"
   ]
  },
  {
   "cell_type": "markdown",
   "metadata": {},
   "source": [
    "Les retards de départ et d'arrivée semblent importants en soirée"
   ]
  },
  {
   "cell_type": "markdown",
   "metadata": {},
   "source": [
    "**Compagnies aériennes**"
   ]
  },
  {
   "cell_type": "markdown",
   "metadata": {},
   "source": [
    "Nous allons afficher la variation de nombre total de vols en retard en fonction de la compagnie aérienne."
   ]
  },
  {
   "cell_type": "code",
   "execution_count": 24,
   "metadata": {},
   "outputs": [
    {
     "data": {
      "image/png": "[encoded data removed]",
      "text/plain": [
       "<Figure size 864x360 with 1 Axes>"
      ]
     },
     "metadata": {},
     "output_type": "display_data"
    }
   ],
   "source": [
    "plt.figure(figsize=(12, 5))\n",
    "carrier_order = np.unique(list(data['Reporting_Airline']))\n",
    "sns.barplot(x='Reporting_Airline',y ='ArrDelayMinutes', data=data, color = \"red\" , order = carrier_order)\n",
    "fig = plt.title(\"Moyenne des minutes de retard en fonction des compagnies aériennes\")"
   ]
  },
  {
   "cell_type": "markdown",
   "metadata": {},
   "source": [
    "On affiche la probabilité d'avoir un retard d'arrivée en fonction des compagnies aériennes"
   ]
  },
  {
   "cell_type": "code",
   "execution_count": 25,
   "metadata": {},
   "outputs": [
    {
     "data": {
      "image/png": "[encoded data removed]",
      "text/plain": [
       "<Figure size 864x360 with 1 Axes>"
      ]
     },
     "metadata": {},
     "output_type": "display_data"
    }
   ],
   "source": [
    "plt.figure(figsize=(12, 5))\n",
    "airline_grouped = data.groupby('Reporting_Airline').mean()\n",
    "sns.barplot(x=airline_grouped.index, y =\"ArrDel15\", data=airline_grouped, color ='red')\n",
    "fig = plt.title(\"Probabilité d'avoir un retard d'arrivée en fonction des compagnies aériennes\")"
   ]
  },
  {
   "cell_type": "markdown",
   "metadata": {},
   "source": [
    "➠ On remarque que la compagnie aérienne \"VX\" (Virgin America) semble avoir une probabilté de retards d'arrivée de vol très importantes."
   ]
  },
  {
   "cell_type": "markdown",
   "metadata": {},
   "source": [
    "On affiche la probabilité d'avoir un retard de départ en fonction des compagnies aériennes."
   ]
  },
  {
   "cell_type": "code",
   "execution_count": 26,
   "metadata": {},
   "outputs": [
    {
     "data": {
      "image/png": "[encoded data removed]",
      "text/plain": [
       "<Figure size 864x360 with 1 Axes>"
      ]
     },
     "metadata": {},
     "output_type": "display_data"
    }
   ],
   "source": [
    "plt.figure(figsize=(12, 5))\n",
    "airline_grouped = data.groupby('Reporting_Airline').mean()\n",
    "sns.barplot(x=airline_grouped.index, y =\"DepDel15\", data=airline_grouped, color ='red')\n",
    "fig = plt.title(\"Probabilité d'avoir un retard de départ en fonction des compagnies aériennes\")"
   ]
  },
  {
   "cell_type": "markdown",
   "metadata": {},
   "source": [
    "➠ On remarque que les compagnies aériennes \"VX\" (Virgin America), \"B6\"(JetBlue Airways) et \"F9\"(Frontier Airlines) semblent avoir une probabilté de retards d'arrivée de vol très importantes."
   ]
  },
  {
   "cell_type": "markdown",
   "metadata": {},
   "source": [
    "** Aéroport d'origine et de destination **"
   ]
  },
  {
   "cell_type": "code",
   "execution_count": 27,
   "metadata": {},
   "outputs": [],
   "source": [
    "def fn_plot(feature,xlabel):\n",
    "    plt.figure(figsize=(12, 5))\n",
    "    grouped1 = data.groupby(feature)[\"ArrDel15\"].sum()\n",
    "    grouped2 = data.groupby(feature)[\"ArrDel15\"].count()\n",
    "    grouped = pd.concat([grouped1, grouped2],axis=1, keys=[\"sum\", \"count\"])\n",
    "    grouped[\"Probability of Arrival Delay15\"] = grouped[\"sum\"]/grouped[\"count\"]\n",
    "    grouped.sort_values(by = \"Probability of Arrival Delay15\", ascending = False, inplace = True)\n",
    "    sns.set_style('whitegrid')\n",
    "    sns.violinplot(x=grouped.index, y = \"Probability of Arrival Delay15\", data=grouped, color ='red')\n",
    "    plt.tick_params(\n",
    "        axis='x',          # changes apply to the x-axis\n",
    "        which='both',      # both major and minor ticks are affected\n",
    "        bottom=False,      # ticks along the bottom edge are off\n",
    "        top=False,         # ticks along the top edge are off\n",
    "        labelbottom=False)\n",
    "    plt.xlabel(xlabel)\n",
    "    plt.ylabel(\"Probability of Arrival Delay15\")"
   ]
  },
  {
   "cell_type": "markdown",
   "metadata": {},
   "source": [
    "On affcihe la probabilité d'avoir un retard d'arrivée en fonction d'aéroport d'origine."
   ]
  },
  {
   "cell_type": "code",
   "execution_count": 28,
   "metadata": {},
   "outputs": [
    {
     "data": {
      "image/png": "[encoded data removed]",
      "text/plain": [
       "<Figure size 864x360 with 1 Axes>"
      ]
     },
     "metadata": {},
     "output_type": "display_data"
    }
   ],
   "source": [
    "fn_plot('Origin', 'Aéroport d\\'origine')"
   ]
  },
  {
   "cell_type": "markdown",
   "metadata": {},
   "source": [
    "L'axe des abscisses dans ce graphe represente les différents aeroports d'origine.oOn peut ainsi constater depuis ce nuage de points que la probabilité de retard est fortement corrélée aux aéroports d'origine."
   ]
  },
  {
   "cell_type": "markdown",
   "metadata": {},
   "source": [
    "On affcihe la probabilité d'avoir un retard d'arrivée en fonction d'aéroport de destination."
   ]
  },
  {
   "cell_type": "code",
   "execution_count": 29,
   "metadata": {},
   "outputs": [
    {
     "data": {
      "image/png": "[encoded data removed]",
      "text/plain": [
       "<Figure size 864x360 with 1 Axes>"
      ]
     },
     "metadata": {},
     "output_type": "display_data"
    }
   ],
   "source": [
    "fn_plot('Dest', 'Aéroport de destination')"
   ]
  },
  {
   "cell_type": "markdown",
   "metadata": {},
   "source": [
    "**Intnéraire de vol**"
   ]
  },
  {
   "cell_type": "markdown",
   "metadata": {},
   "source": [
    "Nous avons crée ne nouvelle colonne appelée \"Flight routes\" avec l'aéroport d'origine et l'aéroport de destination"
   ]
  },
  {
   "cell_type": "code",
   "execution_count": 30,
   "metadata": {},
   "outputs": [
    {
     "data": {
      "image/png": "[encoded data removed]",
      "text/plain": [
       "<Figure size 864x360 with 1 Axes>"
      ]
     },
     "metadata": {},
     "output_type": "display_data"
    }
   ],
   "source": [
    "plt.figure(figsize = (12, 5))\n",
    "data[\"Flight_route\"] = data[\"Origin\"] + \" to \" + data[\"Dest\"]\n",
    "flightroute = data.groupby('Flight_route').sum()\n",
    "flightroute.sort_values(by = \"ArrDel15\", axis = 0, ascending = False, inplace = True)\n",
    "sns.set_style('whitegrid')\n",
    "fig = sns.barplot(x=flightroute.index[:10], y = \"ArrDel15\", data=flightroute[:10], color ='red')\n",
    "fig.set(xlabel = 'Flight routes', ylabel = 'Probability of Arrival Delay15')\n",
    "fig = plt.title(\"Flight routes Vs Probability of Arrival Delay15\")"
   ]
  },
  {
   "cell_type": "markdown",
   "metadata": {},
   "source": [
    "➠ Le graphe ci-dessus montre les 10 principales routes de vol avec un nombre plus élevé de retards à l'arrivée. Il est donc important d'inclure les colonnes de distance et de la duréé de vol dans cette analyse pour déterminer si elles jouent un rôle majeur dans la prévision des arrivées de vols."
   ]
  },
  {
   "cell_type": "markdown",
   "metadata": {},
   "source": [
    "**Les colonnes qui ne contiennent pas d'informations pertinentes et les colonnes qui contiennent des informations pertinentes mais redondantes ne sont pas incluses dans cette analyse**"
   ]
  },
  {
   "cell_type": "code",
   "execution_count": 31,
   "metadata": {},
   "outputs": [
    {
     "name": "stdout",
     "output_type": "stream",
     "text": [
      "Quarter 4\n",
      "Month 5\n",
      "FlightDate 365\n",
      "Reporting_Airline 18\n",
      "DOT_ID_Reporting_Airline 18\n",
      "IATA_CODE_Reporting_Airline 18\n",
      "Tail_Number 5717\n",
      "Flight_Number_Reporting_Airline 7109\n",
      "OriginAirportID 358\n",
      "OriginAirportSeqID 360\n",
      "OriginCityMarketID 334\n",
      "Origin 358\n",
      "OriginCityName 352\n",
      "OriginState 52\n",
      "OriginStateFips 52\n",
      "OriginStateName 52\n",
      "OriginWac 52\n",
      "DestAirportID 358\n",
      "DestAirportSeqID 360\n",
      "DestCityMarketID 334\n",
      "Dest 358\n",
      "DestCityName 352\n",
      "DestState 52\n",
      "DestStateFips 52\n",
      "DestStateName 52\n",
      "DestWac 52\n",
      "DepTime 1440\n",
      "DepDelay 1475\n",
      "DepDelayMinutes 1417\n",
      "DepDel15 2\n",
      "DepartureDelayGroups 15\n",
      "DepTimeBlk 19\n",
      "TaxiOut 180\n",
      "WheelsOff 1440\n",
      "WheelsOn 1440\n",
      "TaxiIn 205\n",
      "ArrTime 1440\n",
      "ArrDelay 1518\n",
      "ArrDelayMinutes 1426\n",
      "ArrDel15 2\n",
      "ArrivalDelayGroups 15\n",
      "ArrTimeBlk 19\n",
      "Cancelled 1\n",
      "Diverted 1\n",
      "CRSElapsedTime 564\n",
      "ActualElapsedTime 701\n",
      "AirTime 672\n",
      "Distance 1536\n",
      "DistanceGroup 11\n",
      "DivAirportLandings 1\n",
      "Week 2\n",
      "Arrival_Time 3\n",
      "Departure_Time 3\n",
      "Flight_route 6272\n"
     ]
    }
   ],
   "source": [
    "for i in data.columns:\n",
    "    print (i, data[i].nunique())"
   ]
  },
  {
   "cell_type": "code",
   "execution_count": 32,
   "metadata": {},
   "outputs": [],
   "source": [
    "important_columns = ['Reporting_Airline','Origin', 'Distance','AirTime','ArrDel15','Month', 'Week', 'Arrival_Time','TaxiOut', 'TaxiIn']\n",
    "for column in data.columns:\n",
    "    if not column in important_columns:\n",
    "        data = data.drop(column, axis=1)"
   ]
  },
  {
   "cell_type": "code",
   "execution_count": 33,
   "metadata": {},
   "outputs": [
    {
     "data": {
      "text/plain": [
       "(2705420, 10)"
      ]
     },
     "execution_count": 33,
     "metadata": {},
     "output_type": "execute_result"
    }
   ],
   "source": [
    "data.shape"
   ]
  },
  {
   "cell_type": "code",
   "execution_count": 34,
   "metadata": {},
   "outputs": [
    {
     "data": {
      "text/plain": [
       "Index(['Month', 'Reporting_Airline', 'Origin', 'TaxiOut', 'TaxiIn', 'ArrDel15',\n",
       "       'AirTime', 'Distance', 'Week', 'Arrival_Time'],\n",
       "      dtype='object')"
      ]
     },
     "execution_count": 34,
     "metadata": {},
     "output_type": "execute_result"
    }
   ],
   "source": [
    "data.columns"
   ]
  },
  {
   "cell_type": "markdown",
   "metadata": {},
   "source": [
    "On va séparer les attributs en numeric_attributs et categorical_attributs."
   ]
  },
  {
   "cell_type": "code",
   "execution_count": 35,
   "metadata": {},
   "outputs": [
    {
     "name": "stdout",
     "output_type": "stream",
     "text": [
      "Attributs numériques :  ['TaxiOut', 'TaxiIn', 'AirTime', 'Distance']\n",
      "Attributs catégoriques :  ['Month', 'Reporting_Airline', 'Origin', 'Week', 'Arrival_Time']\n"
     ]
    }
   ],
   "source": [
    "numeric_attributs = data._get_numeric_data().columns.values.tolist()\n",
    "categorical_attributs = [i for i in data.columns if not i in numeric_attributs]\n",
    "numeric_attributs.remove('ArrDel15')\n",
    "print('Attributs numériques : ', numeric_attributs)\n",
    "print('Attributs catégoriques : ', categorical_attributs)"
   ]
  },
  {
   "cell_type": "markdown",
   "metadata": {},
   "source": [
    "On calcule les corrélations entre les attributs numériques de l'ensemble de données."
   ]
  },
  {
   "cell_type": "markdown",
   "metadata": {},
   "source": [
    "Les fonctions suivantes permettent d'achever cette tache"
   ]
  },
  {
   "cell_type": "code",
   "execution_count": 36,
   "metadata": {},
   "outputs": [
    {
     "name": "stdout",
     "output_type": "stream",
     "text": [
      "Matrice de corrélation\n",
      "           TaxiOut    TaxiIn   AirTime  Distance\n",
      "TaxiOut   1.000000  0.020910  0.044166  0.025657\n",
      "TaxiIn    0.020910  1.000000  0.083143  0.071092\n",
      "AirTime   0.044166  0.083143  1.000000  0.980706\n",
      "Distance  0.025657  0.071092  0.980706  1.000000\n",
      "Top Absolute Correlations\n",
      "AirTime  Distance    0.980706\n",
      "TaxiIn   AirTime     0.083143\n",
      "dtype: float64\n"
     ]
    }
   ],
   "source": [
    "print(\"Matrice de corrélation\")\n",
    "check_cor = data[numeric_attributs]\n",
    "print(check_cor.corr())\n",
    "def get_pairs(dat):\n",
    "    pairs_to_drop = set()\n",
    "    cols = dat.columns\n",
    "    for i in range(0, dat.shape[1]):\n",
    "        for j in range(0, i+1):\n",
    "            pairs_to_drop.add((cols[i], cols[j]))\n",
    "    return pairs_to_drop\n",
    "\n",
    "def get_top_abs_correlations(dat, n=5):\n",
    "    cal_corr = dat.corr().abs().unstack()\n",
    "    labels_to_drop = get_pairs(dat)\n",
    "    cal_corr = cal_corr.drop(labels=labels_to_drop).sort_values(ascending=False)\n",
    "    return cal_corr[0:n]\n",
    "\n",
    "print(\"Top Absolute Correlations\")\n",
    "print(get_top_abs_correlations(check_cor, 2))"
   ]
  },
  {
   "cell_type": "markdown",
   "metadata": {},
   "source": [
    "Il existe une forte corrélation entre la distance et la durée de vol, donc on va supprimer cette colonne."
   ]
  },
  {
   "cell_type": "code",
   "execution_count": 37,
   "metadata": {},
   "outputs": [],
   "source": [
    "data.drop([\"AirTime\"], axis = 1, inplace = True)"
   ]
  },
  {
   "cell_type": "code",
   "execution_count": 38,
   "metadata": {},
   "outputs": [
    {
     "data": {
      "text/plain": [
       "Index(['Month', 'Reporting_Airline', 'Origin', 'TaxiOut', 'TaxiIn', 'ArrDel15',\n",
       "       'Distance', 'Week', 'Arrival_Time'],\n",
       "      dtype='object')"
      ]
     },
     "execution_count": 38,
     "metadata": {},
     "output_type": "execute_result"
    }
   ],
   "source": [
    "data.columns"
   ]
  },
  {
   "cell_type": "markdown",
   "metadata": {},
   "source": [
    "Maintenant, nous devons transformer les attributs catégoriques en attributs numériques."
   ]
  },
  {
   "cell_type": "code",
   "execution_count": 39,
   "metadata": {},
   "outputs": [],
   "source": [
    "for attribut in categorical_attributs:\n",
    "    encoder = LabelEncoder()\n",
    "    encoded_values = encoder.fit_transform(data[attribut].values)\n",
    "    data[attribut] = pd.Series(encoded_values, index=data.index)"
   ]
  },
  {
   "cell_type": "code",
   "execution_count": 40,
   "metadata": {},
   "outputs": [],
   "source": [
    "clean_data = data"
   ]
  },
  {
   "cell_type": "code",
   "execution_count": 41,
   "metadata": {},
   "outputs": [
    {
     "name": "stdout",
     "output_type": "stream",
     "text": [
      "Le nombre final de lignes utilisées dans la classification :  2705420\n",
      "Le nombre final de colonnes utilisées dans la classification :  9\n"
     ]
    }
   ],
   "source": [
    "print (\"Le nombre final de lignes utilisées dans la classification : \", len(clean_data))\n",
    "print (\"Le nombre final de colonnes utilisées dans la classification : \",(clean_data.shape[1]))"
   ]
  },
  {
   "cell_type": "code",
   "execution_count": 42,
   "metadata": {},
   "outputs": [],
   "source": [
    "features = []\n",
    "for i in clean_data.columns:\n",
    "    if i != \"ArrDel15\":\n",
    "        features.append(i)"
   ]
  },
  {
   "cell_type": "markdown",
   "metadata": {},
   "source": [
    "# Extraction des connaissances et évaluation"
   ]
  },
  {
   "cell_type": "markdown",
   "metadata": {},
   "source": [
    "La première étape consiste à diviser le dataset en training et test sets"
   ]
  },
  {
   "cell_type": "code",
   "execution_count": 43,
   "metadata": {},
   "outputs": [],
   "source": [
    "target_feature = clean_data['ArrDel15']\n",
    "clean_data.drop('ArrDel15', axis=1, inplace=True)\n",
    "x_train, x_test, y_train, y_test = train_test_split(clean_data,target_feature ,test_size=0.25, random_state=0)"
   ]
  },
  {
   "cell_type": "markdown",
   "metadata": {},
   "source": [
    "## Classification"
   ]
  },
  {
   "cell_type": "markdown",
   "metadata": {},
   "source": [
    "### Decision Tree"
   ]
  },
  {
   "cell_type": "code",
   "execution_count": 44,
   "metadata": {},
   "outputs": [
    {
     "data": {
      "text/plain": [
       "DecisionTreeClassifier(class_weight=None, criterion='entropy', max_depth=10,\n",
       "                       max_features=None, max_leaf_nodes=None,\n",
       "                       min_impurity_decrease=0.0, min_impurity_split=None,\n",
       "                       min_samples_leaf=1, min_samples_split=2,\n",
       "                       min_weight_fraction_leaf=0.0, presort=False,\n",
       "                       random_state=None, splitter='best')"
      ]
     },
     "execution_count": 44,
     "metadata": {},
     "output_type": "execute_result"
    }
   ],
   "source": [
    "dec_tree_model = DecisionTreeClassifier(criterion='entropy' , max_depth = 10)\n",
    "dec_tree_model.fit(x_train, y_train)"
   ]
  },
  {
   "cell_type": "code",
   "execution_count": 45,
   "metadata": {},
   "outputs": [],
   "source": [
    "dec_tree_model_pred = dec_tree_model.predict(x_test)"
   ]
  },
  {
   "cell_type": "code",
   "execution_count": 46,
   "metadata": {},
   "outputs": [
    {
     "data": {
      "text/plain": [
       "0.6444648150749237"
      ]
     },
     "execution_count": 46,
     "metadata": {},
     "output_type": "execute_result"
    }
   ],
   "source": [
    "dec_tree_model.score(x_test, y_test)"
   ]
  },
  {
   "cell_type": "markdown",
   "metadata": {},
   "source": [
    "### Random forest"
   ]
  },
  {
   "cell_type": "code",
   "execution_count": 47,
   "metadata": {},
   "outputs": [
    {
     "data": {
      "text/plain": [
       "RandomForestClassifier(bootstrap=True, class_weight=None, criterion='gini',\n",
       "                       max_depth=None, max_features='auto', max_leaf_nodes=None,\n",
       "                       min_impurity_decrease=0.0, min_impurity_split=None,\n",
       "                       min_samples_leaf=1, min_samples_split=2,\n",
       "                       min_weight_fraction_leaf=0.0, n_estimators=50,\n",
       "                       n_jobs=None, oob_score=False, random_state=None,\n",
       "                       verbose=0, warm_start=False)"
      ]
     },
     "execution_count": 47,
     "metadata": {},
     "output_type": "execute_result"
    }
   ],
   "source": [
    "rand_forest_model =RandomForestClassifier(n_estimators=50)\n",
    "rand_forest_model.fit(x_train, y_train)"
   ]
  },
  {
   "cell_type": "code",
   "execution_count": 48,
   "metadata": {},
   "outputs": [],
   "source": [
    "rand_forest_model_pred = rand_forest_model.predict(x_test)"
   ]
  },
  {
   "cell_type": "code",
   "execution_count": 49,
   "metadata": {},
   "outputs": [
    {
     "data": {
      "text/plain": [
       "0.6452646908797894"
      ]
     },
     "execution_count": 49,
     "metadata": {},
     "output_type": "execute_result"
    }
   ],
   "source": [
    "rand_forest_model.score(x_test, y_test)"
   ]
  },
  {
   "cell_type": "markdown",
   "metadata": {},
   "source": [
    "### Naive Bayes"
   ]
  },
  {
   "cell_type": "code",
   "execution_count": 51,
   "metadata": {},
   "outputs": [
    {
     "data": {
      "text/plain": [
       "MultinomialNB(alpha=1.0, class_prior=None, fit_prior=True)"
      ]
     },
     "execution_count": 51,
     "metadata": {},
     "output_type": "execute_result"
    }
   ],
   "source": [
    "n_bayes_model = naive_bayes.MultinomialNB(fit_prior=True)\n",
    "n_bayes_model.fit(x_train, y_train) "
   ]
  },
  {
   "cell_type": "code",
   "execution_count": 52,
   "metadata": {},
   "outputs": [],
   "source": [
    "n_bayes_model_pred = n_bayes_model.predict(x_test)"
   ]
  },
  {
   "cell_type": "code",
   "execution_count": 53,
   "metadata": {},
   "outputs": [
    {
     "data": {
      "text/plain": [
       "0.5648202497209306"
      ]
     },
     "execution_count": 53,
     "metadata": {},
     "output_type": "execute_result"
    }
   ],
   "source": [
    "n_bayes_model.score(x_test, y_test)"
   ]
  },
  {
   "cell_type": "markdown",
   "metadata": {},
   "source": [
    "➠ D'après les scores obtenus, le classifieur Random forest a donné le meilleur résultat avec une très légère différence par rapport au classifieur Decision Tree. Puisque Random Forest a une complexité supérieure au Decesion Tree nous considérons ce dernier comme modèle de prédicition."
   ]
  }
 ],
 "metadata": {
  "kernelspec": {
   "display_name": "Python 3",
   "language": "python",
   "name": "python3"
  },
  "language_info": {
   "codemirror_mode": {
    "name": "ipython",
    "version": 3
   },
   "file_extension": ".py",
   "mimetype": "text/x-python",
   "name": "python",
   "nbconvert_exporter": "python",
   "pygments_lexer": "ipython3",
   "version": "3.7.4"
  }
 },
 "nbformat": 4,
 "nbformat_minor": 2
}
